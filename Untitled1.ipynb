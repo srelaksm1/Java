{
  "nbformat": 4,
  "nbformat_minor": 0,
  "metadata": {
    "colab": {
      "provenance": [],
      "authorship_tag": "ABX9TyOM0hIdG0LTVmRNKprHfPjz",
      "include_colab_link": true
    },
    "kernelspec": {
      "name": "python3",
      "display_name": "Python 3"
    },
    "language_info": {
      "name": "python"
    }
  },
  "cells": [
    {
      "cell_type": "markdown",
      "metadata": {
        "id": "view-in-github",
        "colab_type": "text"
      },
      "source": [
        "<a href=\"https://colab.research.google.com/github/srelaksm1/Java/blob/main/Untitled1.ipynb\" target=\"_parent\"><img src=\"https://colab.research.google.com/assets/colab-badge.svg\" alt=\"Open In Colab\"/></a>"
      ]
    },
    {
      "cell_type": "code",
      "source": [
        "a=9\n",
        "print(a)"
      ],
      "metadata": {
        "colab": {
          "base_uri": "https://localhost:8080/"
        },
        "id": "FfQnAyg2ANsl",
        "outputId": "f4c84046-d110-43d7-a930-ab9883bb066a"
      },
      "execution_count": 3,
      "outputs": [
        {
          "output_type": "stream",
          "name": "stdout",
          "text": [
            "9\n"
          ]
        }
      ]
    },
    {
      "cell_type": "code",
      "source": [
        "f=1.5\n",
        "print(f)\n",
        "print(type(f))"
      ],
      "metadata": {
        "colab": {
          "base_uri": "https://localhost:8080/"
        },
        "id": "RmE25yTAAc0h",
        "outputId": "ed8df55e-0d1d-46a4-de64-67d9a5e0747d"
      },
      "execution_count": 4,
      "outputs": [
        {
          "output_type": "stream",
          "name": "stdout",
          "text": [
            "1.5\n",
            "<class 'float'>\n"
          ]
        }
      ]
    },
    {
      "cell_type": "code",
      "source": [
        "s='hey'\n",
        "print(s)\n",
        "print(type(s))"
      ],
      "metadata": {
        "colab": {
          "base_uri": "https://localhost:8080/"
        },
        "id": "1FnIlOynAln_",
        "outputId": "dac692cf-3cd4-4d81-bd9f-1c20464e7e7e"
      },
      "execution_count": 5,
      "outputs": [
        {
          "output_type": "stream",
          "name": "stdout",
          "text": [
            "hey\n",
            "<class 'str'>\n"
          ]
        }
      ]
    },
    {
      "cell_type": "code",
      "source": [
        "b=False\n",
        "print(b)\n",
        "print(type(b))"
      ],
      "metadata": {
        "colab": {
          "base_uri": "https://localhost:8080/"
        },
        "id": "0pOlwo5zAthK",
        "outputId": "0e7cd6c5-f72e-4ffd-f32a-0541974b360c"
      },
      "execution_count": 6,
      "outputs": [
        {
          "output_type": "stream",
          "name": "stdout",
          "text": [
            "False\n",
            "<class 'bool'>\n"
          ]
        }
      ]
    },
    {
      "cell_type": "code",
      "source": [
        "t=2+3j\n",
        "print(t)\n",
        "print(type(t))"
      ],
      "metadata": {
        "colab": {
          "base_uri": "https://localhost:8080/"
        },
        "id": "Dmyz887KA92w",
        "outputId": "89296b08-2892-4f8e-887b-563697604847"
      },
      "execution_count": 8,
      "outputs": [
        {
          "output_type": "stream",
          "name": "stdout",
          "text": [
            "(2+3j)\n",
            "<class 'complex'>\n"
          ]
        }
      ]
    },
    {
      "cell_type": "code",
      "source": [
        "from binascii import b2a_base64\n",
        "a=9\n",
        "b=4\n",
        "sum=a+b\n",
        "print(sum)\n",
        "diff=a-b\n",
        "print(diff)\n",
        "prod=a*b\n",
        "print(prod)\n",
        "quo=a/b\n",
        "print(quo)\n",
        "iquo=a//b\n",
        "print(iquo)\n",
        "rem=a%b\n",
        "print(rem)\n",
        "pow=a**b\n",
        "print(rem)"
      ],
      "metadata": {
        "colab": {
          "base_uri": "https://localhost:8080/"
        },
        "id": "tfs32d9CBOpb",
        "outputId": "8408bb38-dca5-40b2-da43-736569455a0c"
      },
      "execution_count": 11,
      "outputs": [
        {
          "output_type": "stream",
          "name": "stdout",
          "text": [
            "13\n",
            "5\n",
            "36\n",
            "2.25\n",
            "2\n",
            "1\n",
            "1\n"
          ]
        }
      ]
    },
    {
      "cell_type": "code",
      "source": [
        "T=True\n",
        "F=False\n",
        "print(T,F)\n",
        "p=5>3\n",
        "print(p)\n",
        "q=4>8\n",
        "print(q)\n",
        "print(p and q)\n",
        "print(p or q)\n",
        "print(not q)"
      ],
      "metadata": {
        "colab": {
          "base_uri": "https://localhost:8080/"
        },
        "id": "H-2o5zHUAZZ0",
        "outputId": "2e2a2823-5611-479a-f8b0-4cb144d758cc"
      },
      "execution_count": 16,
      "outputs": [
        {
          "output_type": "stream",
          "name": "stdout",
          "text": [
            "True False\n",
            "True\n",
            "False\n",
            "False\n",
            "True\n",
            "True\n"
          ]
        }
      ]
    },
    {
      "cell_type": "code",
      "source": [
        "s='hello'\n",
        "u='hai'\n",
        "print(s)\n",
        "print(u)\n",
        "\n",
        "s1='web'\n",
        "s2='programming'\n",
        "s3=s1+' '+s2\n",
        "print(s3)\n",
        "print(len(s3))\n",
        "\n",
        "s3='%s %s %d'%(s1,s2,1010)\n",
        "print(s3)\n",
        "\n",
        "print(s3.upper())\n",
        "print(s3.capitalize())\n",
        "print(s3.lower())\n",
        "print('I am from Alappuzha'.split(' '))\n",
        "print('book'.replace('o','e'))\n",
        "\n",
        "word='Himalaya'\n",
        "print(word.find('mal'))\n",
        "print(word.find('chal'))\n",
        "\n"
      ],
      "metadata": {
        "colab": {
          "base_uri": "https://localhost:8080/"
        },
        "id": "2yUZWllFBbCi",
        "outputId": "5fce7a40-c5c9-451b-f2be-496ebc6d883e"
      },
      "execution_count": 29,
      "outputs": [
        {
          "output_type": "stream",
          "name": "stdout",
          "text": [
            "hello\n",
            "hai\n",
            "web programming\n",
            "15\n",
            "web programming 1010\n",
            "WEB PROGRAMMING 1010\n",
            "Web programming 1010\n",
            "web programming 1010\n",
            "['I', 'am', 'from', 'Alappuzha']\n",
            "beek\n",
            "2\n",
            "-1\n"
          ]
        }
      ]
    },
    {
      "cell_type": "code",
      "source": [
        "number=int(input('enter a number:'))\n",
        "if number>9 and number<100:\n",
        "  print('2 digit number')\n",
        "else:\n",
        "  print('not a 2 digit number')"
      ],
      "metadata": {
        "colab": {
          "base_uri": "https://localhost:8080/"
        },
        "id": "wp5dIqbvFqGY",
        "outputId": "e2a58c62-77cd-4d02-f7ef-33c19869d739"
      },
      "execution_count": 32,
      "outputs": [
        {
          "output_type": "stream",
          "name": "stdout",
          "text": [
            "enter a number:1\n",
            "not a 2 digit number\n"
          ]
        }
      ]
    },
    {
      "cell_type": "code",
      "source": [
        "response=input('Are you familiar with python?')\n",
        "if response.upper()=='YES':\n",
        "  print('You can skip this course!')\n",
        "elif response.upper()=='NO':\n",
        "  print('You are at the right place')\n",
        "else:\n",
        "  print('Invalid input')"
      ],
      "metadata": {
        "colab": {
          "base_uri": "https://localhost:8080/"
        },
        "id": "hXZ93X8bIO5-",
        "outputId": "e330ea6d-1d55-4d47-cfc9-63debb9b202f"
      },
      "execution_count": 35,
      "outputs": [
        {
          "output_type": "stream",
          "name": "stdout",
          "text": [
            "Are you familiar with python?yes\n",
            "You can skip this course!\n"
          ]
        }
      ]
    },
    {
      "cell_type": "code",
      "source": [
        "age=int(input('Enter your age:'))\n",
        "if age>18 and age <105:\n",
        "  print('You are eligible for voting')\n",
        "elif age<18:\n",
        "  print('You are not eligible for voting')\n",
        "else:\n",
        "  print('You entered an invalid input!')"
      ],
      "metadata": {
        "colab": {
          "base_uri": "https://localhost:8080/"
        },
        "id": "pI0knYGQJUFK",
        "outputId": "f1285675-8127-4332-d4c5-8f4f7cee0c36"
      },
      "execution_count": 40,
      "outputs": [
        {
          "output_type": "stream",
          "name": "stdout",
          "text": [
            "Enter your age:200\n",
            "You entered an invalid input!\n"
          ]
        }
      ]
    },
    {
      "cell_type": "code",
      "source": [
        "for x in range(10):\n",
        "  print(x,end=' ')"
      ],
      "metadata": {
        "colab": {
          "base_uri": "https://localhost:8080/"
        },
        "id": "yFQsF7L0KWLO",
        "outputId": "38ff80fc-5e4f-43f1-e8a1-c253cebf141f"
      },
      "execution_count": 44,
      "outputs": [
        {
          "output_type": "stream",
          "name": "stdout",
          "text": [
            "0 1 2 3 4 5 6 7 8 9 "
          ]
        }
      ]
    },
    {
      "cell_type": "code",
      "source": [
        "limit=int(input('Enter a limit:'))\n",
        "sum=0\n",
        "for i in range(1,limit+1):\n",
        "  if i%2!=0:\n",
        "    sum+=i\n",
        "print('Odd sum:',sum)"
      ],
      "metadata": {
        "colab": {
          "base_uri": "https://localhost:8080/"
        },
        "id": "bWC_N-0JK6aP",
        "outputId": "58f29350-1f99-4c84-f6d0-ccec52f9929e"
      },
      "execution_count": 47,
      "outputs": [
        {
          "output_type": "stream",
          "name": "stdout",
          "text": [
            "Enter a limit:10\n",
            "Odd sum: 25\n"
          ]
        }
      ]
    },
    {
      "cell_type": "code",
      "source": [
        "number=int(input('Enter number:'))\n",
        "sum=0\n",
        "while number>0:\n",
        "  sum=sum+number%10\n",
        "  number=number//10\n",
        "print(sum)"
      ],
      "metadata": {
        "colab": {
          "base_uri": "https://localhost:8080/"
        },
        "id": "FydchUeiNHx9",
        "outputId": "5178666a-8ef2-4e57-cf07-9bf504286ab6"
      },
      "execution_count": 49,
      "outputs": [
        {
          "output_type": "stream",
          "name": "stdout",
          "text": [
            "Enter number:123\n",
            "6\n"
          ]
        }
      ]
    }
  ]
}